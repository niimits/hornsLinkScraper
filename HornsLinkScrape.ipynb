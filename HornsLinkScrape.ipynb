{
 "cells": [
  {
   "cell_type": "code",
   "execution_count": null,
   "metadata": {
    "collapsed": false
   },
   "outputs": [],
   "source": [
    "# initialize getLinks function to scrape the links\n",
    "# to all organization home pages\n",
    "\n",
    "from urllib.request import urlopen\n",
    "from bs4 import BeautifulSoup\n",
    "import datetime\n",
    "import random\n",
    "import re\n",
    "\n",
    "random.seed(datetime.datetime.now())\n",
    "def getLinks(articleUrl):\n",
    "    html=urlopen(\"https://utexas.collegiatelink.net\"+articleUrl)\n",
    "    return bsObj.findAll(\"a\", href=re.compile(\"^(/organization/)\"))"
   ]
  },
  {
   "cell_type": "code",
   "execution_count": null,
   "metadata": {
    "collapsed": false,
    "scrolled": true
   },
   "outputs": [],
   "source": [
    "# create orgLinks array to store the links to org homepage\n",
    "\n",
    "orgLinks = []\n",
    "for i in range(1,123):\n",
    "    html = urlopen(\"https://utexas.collegiatelink.net/organizations?\"+\n",
    "               \"SearchType=None&SelectedCategoryId=0&CurrentPage=\"+str(i))\n",
    "    bsObj = BeautifulSoup(html.read(), \"lxml\")\n",
    "    links = getLinks(\"/organization/\")\n",
    "    for link in links:\n",
    "        if 'href' in link.attrs:\n",
    "            orgLinks.append(link.attrs['href'])"
   ]
  },
  {
   "cell_type": "code",
   "execution_count": null,
   "metadata": {
    "collapsed": false
   },
   "outputs": [],
   "source": [
    "# debug orgLinks\n",
    "\n",
    "#for link in orgLinks:\n",
    "#    print(link)\n",
    "print(len(orgLinks))"
   ]
  },
  {
   "cell_type": "code",
   "execution_count": null,
   "metadata": {
    "collapsed": false
   },
   "outputs": [],
   "source": [
    "# Initialize webdriver and manually login to get the cookies\n",
    "\n",
    "from selenium import webdriver\n",
    "from urllib.request import urlopen\n",
    "from bs4 import BeautifulSoup\n",
    "import time\n",
    "import re\n",
    "\n",
    "driver = webdriver.Chrome()\n",
    "driver.get(\"https://utexas.collegiatelink.net/organization/igotsole\")"
   ]
  },
  {
   "cell_type": "code",
   "execution_count": null,
   "metadata": {
    "collapsed": false
   },
   "outputs": [],
   "source": [
    "# Get cookies after logging in and define getInformation function\n",
    "# to scrape orgName, personName and emailAddress from each org page\n",
    "\n",
    "cookies = driver.get_cookies()\n",
    "for cookie in cookies:\n",
    "    driver.add_cookie(cookie)\n",
    "\n",
    "def getInformation(orgLink):\n",
    "    driver.get(\"https://utexas.collegiatelink.net\"+orgLink)\n",
    "    # driver.get(orgLink)\n",
    "    memberCard = None\n",
    "    pageSource = driver.page_source\n",
    "    pageSource = BeautifulSoup(pageSource, \"lxml\")\n",
    "    orgName = pageSource.title\n",
    "    orgName = orgName.get_text()\n",
    "    orgName = orgName.replace(orgName[-10:],'')\n",
    "    orgName = orgName.replace(orgName[:2],'')\n",
    "    contact = pageSource.findAll(\"a\", href=re.compile(\"^(/users/membercard/)\"))\n",
    "    for link in contact:\n",
    "        if 'href' in link.attrs:\n",
    "            memberCard = link.attrs['href']\n",
    "        else:\n",
    "            memberCard = None\n",
    "    \n",
    "    if memberCard == None:\n",
    "        emailAddress = \"None\"\n",
    "        personName = \"None\"\n",
    "    else:\n",
    "        driver.get(\"https://utexas.collegiatelink.net\"+memberCard)\n",
    "        emailPerson = driver.page_source\n",
    "        emailPerson = BeautifulSoup(emailPerson, \"lxml\")\n",
    "        personName = emailPerson.findAll(\"span\", {\"class\":\"fn\"})\n",
    "        for person in personName:\n",
    "            personName = person.get_text()\n",
    "        emailPerson = emailPerson.findAll(\"a\", href=re.compile(\"^(mailto:)\"))\n",
    "        if emailPerson == []:\n",
    "            emailAddress = \"None\"\n",
    "        else:\n",
    "            for email in emailPerson:\n",
    "                if 'href' in email.attrs:\n",
    "                    emailAddress = email.attrs['href']\n",
    "                    emailAddress = emailAddress.replace(emailAddress[:7],'')\n",
    "                \n",
    "    time.sleep(3)\n",
    "    return orgName, personName, emailAddress"
   ]
  },
  {
   "cell_type": "code",
   "execution_count": null,
   "metadata": {
    "collapsed": false
   },
   "outputs": [],
   "source": [
    "# Initialize allOrgInfo array to store tuples containing org information\n",
    "# use for loop to iterate through orgLinks array\n",
    "allOrgInfo = []\n",
    "for orgLink in orgLinks:\n",
    "    orgInfo = getInformation(orgLink)\n",
    "    allOrgInfo.append(orgInfo)"
   ]
  },
  {
   "cell_type": "code",
   "execution_count": null,
   "metadata": {
    "collapsed": false
   },
   "outputs": [],
   "source": [
    "# debug allOrgInfo to make sure all it contains all the necessary info \n",
    "for org in allOrgInfo:\n",
    "    a, b, c = org\n",
    "    print(a,b,c)"
   ]
  },
  {
   "cell_type": "code",
   "execution_count": null,
   "metadata": {
    "collapsed": false
   },
   "outputs": [],
   "source": [
    "# save allOrgInfo into a Pandas Dataframe\n",
    "import pandas as pd\n",
    "orgDF = pd.DataFrame(allOrgInfo)"
   ]
  },
  {
   "cell_type": "code",
   "execution_count": null,
   "metadata": {
    "collapsed": false,
    "scrolled": true
   },
   "outputs": [],
   "source": [
    "# print Dataframe to make sure all the information is present\n",
    "print(orgDF)"
   ]
  },
  {
   "cell_type": "code",
   "execution_count": null,
   "metadata": {
    "collapsed": false
   },
   "outputs": [],
   "source": [
    "# convert the array containing all weblinks to student org pages\n",
    "# into a Pandas DataFrame, so that we can combine it with orgDF\n",
    "testLinks = pd.DataFrame(orgLinks)"
   ]
  },
  {
   "cell_type": "code",
   "execution_count": null,
   "metadata": {
    "collapsed": false
   },
   "outputs": [],
   "source": [
    "# combine/concatenate the two DataFrames to join them by column\n",
    "orgDF = pd.concat([orgDF, testLinks], axis=1)"
   ]
  },
  {
   "cell_type": "code",
   "execution_count": null,
   "metadata": {
    "collapsed": false
   },
   "outputs": [],
   "source": [
    "# rename DataFrame columns to accurately reflect the data\n",
    "orgDF.columns = ['Organization Name', 'Contact Name',\n",
    "              'Contact Email', 'Organization Homepage']"
   ]
  },
  {
   "cell_type": "code",
   "execution_count": null,
   "metadata": {
    "collapsed": false
   },
   "outputs": [],
   "source": [
    "# export DataFrame to a csv file\n",
    "orgDF.to_csv(\"hornsLinkOrgData.csv\")"
   ]
  },
  {
   "cell_type": "code",
   "execution_count": null,
   "metadata": {
    "collapsed": true
   },
   "outputs": [],
   "source": []
  }
 ],
 "metadata": {
  "kernelspec": {
   "display_name": "Python 3",
   "language": "python",
   "name": "python3"
  },
  "language_info": {
   "codemirror_mode": {
    "name": "ipython",
    "version": 3
   },
   "file_extension": ".py",
   "mimetype": "text/x-python",
   "name": "python",
   "nbconvert_exporter": "python",
   "pygments_lexer": "ipython3",
   "version": "3.5.2"
  }
 },
 "nbformat": 4,
 "nbformat_minor": 2
}
