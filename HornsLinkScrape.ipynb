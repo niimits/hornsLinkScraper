{
 "cells": [
  {
   "cell_type": "code",
   "execution_count": 1,
   "metadata": {
    "collapsed": false
   },
   "outputs": [],
   "source": [
    "# initialize getLinks function to scrape the links\n",
    "# to all organization home pages\n",
    "\n",
    "from urllib.request import urlopen\n",
    "from bs4 import BeautifulSoup\n",
    "import datetime\n",
    "import random\n",
    "import re\n",
    "\n",
    "random.seed(datetime.datetime.now())\n",
    "def getLinks(articleUrl):\n",
    "    html=urlopen(\"https://utexas.collegiatelink.net\"+articleUrl)\n",
    "    return bsObj.findAll(\"a\", href=re.compile(\"^(/organization/)\"))"
   ]
  },
  {
   "cell_type": "code",
   "execution_count": 2,
   "metadata": {
    "collapsed": false,
    "scrolled": true
   },
   "outputs": [],
   "source": [
    "# create orgLinks array to store the links to org homepage\n",
    "\n",
    "orgLinks = []\n",
    "for i in range(1,123):\n",
    "    html = urlopen(\"https://utexas.collegiatelink.net/organizations?\"+\n",
    "               \"SearchType=None&SelectedCategoryId=0&CurrentPage=\"+str(i))\n",
    "    bsObj = BeautifulSoup(html.read(), \"lxml\")\n",
    "    links = getLinks(\"/organization/\")\n",
    "    for link in links:\n",
    "        if 'href' in link.attrs:\n",
    "            orgLinks.append(link.attrs['href'])"
   ]
  },
  {
   "cell_type": "code",
   "execution_count": 6,
   "metadata": {
    "collapsed": false
   },
   "outputs": [
    {
     "name": "stdout",
     "output_type": "stream",
     "text": [
      "1213\n"
     ]
    }
   ],
   "source": [
    "# debug orgLinks\n",
    "\n",
    "#for link in orgLinks:\n",
    "#    print(link)\n",
    "print(len(orgLinks))"
   ]
  },
  {
   "cell_type": "code",
   "execution_count": 4,
   "metadata": {
    "collapsed": false
   },
   "outputs": [],
   "source": [
    "# Initialize webdriver and manually login to get the cookies\n",
    "\n",
    "from selenium import webdriver\n",
    "from urllib.request import urlopen\n",
    "from bs4 import BeautifulSoup\n",
    "import time\n",
    "import re\n",
    "\n",
    "driver = webdriver.Chrome()\n",
    "driver.get(\"https://utexas.collegiatelink.net/organization/igotsole\")"
   ]
  },
  {
   "cell_type": "code",
   "execution_count": 7,
   "metadata": {
    "collapsed": false
   },
   "outputs": [],
   "source": [
    "# Get cookies after logging in and define getInformation function\n",
    "# to scrape orgName, personName and emailAddress from each org page\n",
    "\n",
    "cookies = driver.get_cookies()\n",
    "for cookie in cookies:\n",
    "    driver.add_cookie(cookie)\n",
    "\n",
    "def getInformation(orgLink):\n",
    "    driver.get(\"https://utexas.collegiatelink.net\"+orgLink)\n",
    "    # driver.get(orgLink)\n",
    "    memberCard = None\n",
    "    pageSource = driver.page_source\n",
    "    pageSource = BeautifulSoup(pageSource, \"lxml\")\n",
    "    orgName = pageSource.title\n",
    "    orgName = orgName.get_text()\n",
    "    orgName = orgName.replace(orgName[-10:],'')\n",
    "    orgName = orgName.replace(orgName[:2],'')\n",
    "    contact = pageSource.findAll(\"a\", href=re.compile(\"^(/users/membercard/)\"))\n",
    "    for link in contact:\n",
    "        if 'href' in link.attrs:\n",
    "            memberCard = link.attrs['href']\n",
    "        else:\n",
    "            memberCard = None\n",
    "    \n",
    "    if memberCard == None:\n",
    "        emailAddress = \"None\"\n",
    "        personName = \"None\"\n",
    "    else:\n",
    "        driver.get(\"https://utexas.collegiatelink.net\"+memberCard)\n",
    "        emailPerson = driver.page_source\n",
    "        emailPerson = BeautifulSoup(emailPerson, \"lxml\")\n",
    "        personName = emailPerson.findAll(\"span\", {\"class\":\"fn\"})\n",
    "        for person in personName:\n",
    "            personName = person.get_text()\n",
    "        emailPerson = emailPerson.findAll(\"a\", href=re.compile(\"^(mailto:)\"))\n",
    "        if emailPerson == []:\n",
    "            emailAddress = \"None\"\n",
    "        else:\n",
    "            for email in emailPerson:\n",
    "                if 'href' in email.attrs:\n",
    "                    emailAddress = email.attrs['href']\n",
    "                    emailAddress = emailAddress.replace(emailAddress[:7],'')\n",
    "                \n",
    "    time.sleep(3)\n",
    "    return orgName, personName, emailAddress"
   ]
  },
  {
   "cell_type": "code",
   "execution_count": 8,
   "metadata": {
    "collapsed": false
   },
   "outputs": [],
   "source": [
    "# Initialize allOrgInfo array to store tuples containing org information\n",
    "# use for loop to iterate through orgLinks array\n",
    "allOrgInfo = []\n",
    "for orgLink in orgLinks:\n",
    "    orgInfo = getInformation(orgLink)\n",
    "    allOrgInfo.append(orgInfo)"
   ]
  },
  {
   "cell_type": "code",
   "execution_count": null,
   "metadata": {
    "collapsed": false
   },
   "outputs": [],
   "source": [
    "# debug allOrgInfo to make sure all it contains all the necessary info \n",
    "for org in allOrgInfo:\n",
    "    a, b, c = org\n",
    "    print(a,b,c)"
   ]
  },
  {
   "cell_type": "code",
   "execution_count": 19,
   "metadata": {
    "collapsed": false
   },
   "outputs": [],
   "source": [
    "# save allOrgInfo into a Pandas Dataframe\n",
    "import pandas as pd\n",
    "orgDF = pd.DataFrame(allOrgInfo)"
   ]
  },
  {
   "cell_type": "code",
   "execution_count": 10,
   "metadata": {
    "collapsed": false,
    "scrolled": true
   },
   "outputs": [
    {
     "name": "stdout",
     "output_type": "stream",
     "text": [
      "                                                      0                   1  \\\n",
      "0                                            #IGOTSOLE    CHRISTIANA THOMAS   \n",
      "1                                       (I)'s of Texas       MORGAN LAWLESS   \n",
      "2                                    3-D Modeling Club         SAMIR HASSAM   \n",
      "3                  4 Corners Christian Group at Austin             LITAN LI   \n",
      "4     40th Annual Big XII Conference on Black Studen...                None   \n",
      "5                                        Aaja Ve Texas         KRISHMA SHAH   \n",
      "6                           ABC Residence Hall Council   UJWAL MADHAVAPEDDI   \n",
      "7                                      Absolute Texxas       Summer WHEELER   \n",
      "8                                    Acacia Fraternity    ZACKERY FERNANDEZ   \n",
      "9                      ACADEMIC COUNSELORS ASSOCIATION           Kayla Ford   \n",
      "10                         Access Christian Fellowship          JIA-YU CHIN   \n",
      "11                                          ACLU at UT       MRINALINI SHAH   \n",
      "12                Action Committee for Career Services                 None   \n",
      "13                            Acts College Fellowship            CELINE LEE   \n",
      "14                                   Acts of Kindness         NOORA BAYRAMI   \n",
      "15                              Actuarial Science Club       MARK DILLEMUTH   \n",
      "16                        Advertising Graduate Council          ERIN KELLEY   \n",
      "17               AEI On Campus Texas Executive Council                 None   \n",
      "18                                  AEM Jovenes Austin                 None   \n",
      "19                  Aerospace Projects and Experiments        RYAN BOURLAND   \n",
      "20                      African Students Organization       DIANA EKECHUKWU   \n",
      "21                            Afrikan-American Affairs          JOY GASSAMA   \n",
      "22              Ahmadiyya Muslim Students Organization        MUTAHIR AHMAD   \n",
      "23                                       AIESEC Austin         SUJAYA DARKE   \n",
      "24          Alexander Hamilton Society - Texas Chapter       QUINN SORENSON   \n",
      "25                          Alliance for Energy Policy        ANDREW MARTIN   \n",
      "26                       All-Write All-Write All-Write        ANNA DOLLIVER   \n",
      "27               Almetris Duren Residence Hall Council        MARVIN THOMAS   \n",
      "28                                     Alpha Chi Omega         NICOLE CRAIG   \n",
      "29                                      Alpha Delta Pi      HALEY MARTENSEN   \n",
      "...                                                 ...                 ...   \n",
      "1183                   Vietnamese Students Association          DANG NGUYEN   \n",
      "1184                           Voices Against Violence        MIA GOLDSTEIN   \n",
      "1185                                Wildlife Explorers          MAYA RIGLEY   \n",
      "1186                     Willie Nelson Center Students      SUZANNE BURDICK   \n",
      "1187                     Women Communicators of Austin        ETHANY THOMAS   \n",
      "1188  Women in Aerospace for Leadership and Developm...       NICOLE VIEGER   \n",
      "1189                   Women in Biomedical Engineering         LAURA KENYON   \n",
      "1190                     Women in Business Association    JACQUELINE CROSBY   \n",
      "1191                                   Women in Cinema     MARIANA GONZALEZ   \n",
      "1192                        Women in Civil Engineering       GRETCHEN BELLA   \n",
      "1193  Women in Electrical and Computer Engineering (...        CAROLINE YAO   \n",
      "1194                          Women in Foreign Affairs       CHRISTINA CAIN   \n",
      "1195                  Women in Mechanical Engineering               ELEY NG   \n",
      "1196                                 Women in Medicine       BREANNA ALONZO   \n",
      "1197     Women in Petroleum and Geosystems Engineering         VIVIAN CHANG   \n",
      "1198                               Women in Psychology      AURORA BRINKMAN   \n",
      "1199                               Women of Excellence       Diana SANDOVAL   \n",
      "1200                                Women's Law Caucus      SARAH MOHKAMKAR   \n",
      "1201     Women's Resource Agency of Student Government       REBECCA SOSTEK   \n",
      "1202  Women's Transportation Seminar - Heart of Texa...       MEGAN MULHALL   \n",
      "1203  Young Americans for Liberty at The University ...       BRIANNA RAWLS   \n",
      "1204  Young Conservatives of Texas - University Chap...     VIDAL CASTANEDA   \n",
      "1205                     Young Life College Fellowship       RUSSELL HUTSON   \n",
      "1206                                       Youth Court          KIAH DEBOLT   \n",
      "1207                  ZAP- Zavala After-School Program          MATHEW RONK   \n",
      "1208                                     Zeta Beta Tau          CODY STRULL   \n",
      "1209  Zeta Phi Beta Sorority, Incorporated - Omicron...          AMY ADANSE   \n",
      "1210                               Zeta Psi Fraternity        LUKE KROGNESS   \n",
      "1211                                    Zeta Tau Alpha      LAUREN WOOLFOLK   \n",
      "1212                                             Zobhā        AVANIKA PATIL   \n",
      "\n",
      "                                  2  \n",
      "0      christiana.thomas@utexas.edu  \n",
      "1          morganblawless@gmail.com  \n",
      "2             S.Hassam01@utexas.edu  \n",
      "3               litan.li3@gmail.com  \n",
      "4                              None  \n",
      "5             KRISHAH08@HOTMAIL.COM  \n",
      "6      ujwal_madhavapeddi@yahoo.com  \n",
      "7         summerwheelertx@gmail.com  \n",
      "8      ZACK.D.B.FERNANDEZ@GMAIL.COM  \n",
      "9     kayla.ford@mccombs.utexas.edu  \n",
      "10           geneve.chin@utexas.edu  \n",
      "11            MRUNALIRANI@GMAIL.COM  \n",
      "12                             None  \n",
      "13            celine.lee@utexas.edu  \n",
      "14         noora.bayrami@utexas.edu  \n",
      "15            dillemuthm@utexas.edu  \n",
      "16            erinkelley@utexas.edu  \n",
      "17                             None  \n",
      "18                             None  \n",
      "19            rwbourland@utexas.edu  \n",
      "20          diana.prince@utexas.edu  \n",
      "21          joy.gassama95@gmail.com  \n",
      "22         MUTAHIRAHMAD95@GMAIL.COM  \n",
      "23                sdarke@utexas.edu  \n",
      "24         quinn.sorenson@gmail.com  \n",
      "25              aomartin@utexas.edu  \n",
      "26          ANNADOLLIVER3@GMAIL.COM  \n",
      "27           marvinjr1129@yahoo.com  \n",
      "28         craig.nicole61@gmail.com  \n",
      "29        haleymartensen@utexas.edu  \n",
      "...                             ...  \n",
      "1183     DANNY.NGUYEN5316@GMAIL.COM  \n",
      "1184        MIAGOLDSTEIN@UTEXAS.EDU  \n",
      "1185          maya.rigley@gmail.com  \n",
      "1186      suzanneburdick@utexas.edu  \n",
      "1187        eythomas411@hotmail.com  \n",
      "1188             nvieger@utexas.edu  \n",
      "1189         laurakenyon@utexas.edu  \n",
      "1190                           None  \n",
      "1191          marianagzz@utexas.edu  \n",
      "1192      gretchenmbella@utexas.edu  \n",
      "1193         Carolineyao@utexas.edu  \n",
      "1194      christinacain17@yahoo.com  \n",
      "1195          eleyngmedia@gmail.com  \n",
      "1196      breanna.alonzo@utexas.edu  \n",
      "1197             v.chang@utexas.edu  \n",
      "1198      aurorabrinkman@utexas.edu  \n",
      "1199       dianasandoval@utexas.edu  \n",
      "1200     sarah.mohkamkar@utexas.edu  \n",
      "1201              rsostek@gmail.com  \n",
      "1202           mulhallmeg@gmail.com  \n",
      "1203       brianna.rawls@utexas.edu  \n",
      "1204   vidal.castaneda.12@GMAIL.COM  \n",
      "1205         RBHUTSON@SBCGLOBAL.NET  \n",
      "1206         kiah.debolt@utexas.edu  \n",
      "1207         mathew.ronk@utexas.edu  \n",
      "1208          cody.strull@yahoo.com  \n",
      "1209          amy.adanse@utexas.edu  \n",
      "1210            lukekrogness@me.com  \n",
      "1211      laurenwoolfolk@utexas.edu  \n",
      "1212        avanika_email@yahoo.com  \n",
      "\n",
      "[1213 rows x 3 columns]\n"
     ]
    }
   ],
   "source": [
    "# print Dataframe to make sure all the information is present\n",
    "print(orgDF)"
   ]
  },
  {
   "cell_type": "code",
   "execution_count": 69,
   "metadata": {
    "collapsed": false
   },
   "outputs": [],
   "source": [
    "# convert the array containing all weblinks to student org pages\n",
    "# into a Pandas DataFrame, so that we can combine it with orgDF\n",
    "testLinks = pd.DataFrame(orgLinks)"
   ]
  },
  {
   "cell_type": "code",
   "execution_count": 70,
   "metadata": {
    "collapsed": false
   },
   "outputs": [],
   "source": [
    "# combine/concatenate the two DataFrames to join them by column\n",
    "orgDF = pd.concat([orgDF, testLinks], axis=1)"
   ]
  },
  {
   "cell_type": "code",
   "execution_count": 71,
   "metadata": {
    "collapsed": false
   },
   "outputs": [],
   "source": [
    "# rename DataFrame columns to accurately reflect the data\n",
    "orgDF.columns = ['Organization Name', 'Contact Name',\n",
    "              'Contact Email', 'Organization Homepage']"
   ]
  },
  {
   "cell_type": "code",
   "execution_count": 73,
   "metadata": {
    "collapsed": false
   },
   "outputs": [],
   "source": [
    "# export DataFrame to a csv file\n",
    "orgDF.to_csv(\"hornsLinkOrgData.csv\")"
   ]
  },
  {
   "cell_type": "code",
   "execution_count": null,
   "metadata": {
    "collapsed": true
   },
   "outputs": [],
   "source": []
  }
 ],
 "metadata": {
  "kernelspec": {
   "display_name": "Python 3",
   "language": "python",
   "name": "python3"
  },
  "language_info": {
   "codemirror_mode": {
    "name": "ipython",
    "version": 3
   },
   "file_extension": ".py",
   "mimetype": "text/x-python",
   "name": "python",
   "nbconvert_exporter": "python",
   "pygments_lexer": "ipython3",
   "version": "3.5.2"
  }
 },
 "nbformat": 4,
 "nbformat_minor": 2
}
